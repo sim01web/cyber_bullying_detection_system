{
 "cells": [
  {
   "cell_type": "markdown",
   "id": "351eeb90",
   "metadata": {},
   "source": [
    "## Importing the libraries"
   ]
  },
  {
   "cell_type": "code",
   "execution_count": 1,
   "id": "3945bc2e",
   "metadata": {},
   "outputs": [],
   "source": [
    "import pandas as pd\n",
    "from sklearn.feature_extraction.text import TfidfVectorizer\n",
    "import re\n",
    "import matplotlib.pyplot as plt\n",
    "from sklearn.model_selection import train_test_split"
   ]
  },
  {
   "cell_type": "markdown",
   "id": "182640ac",
   "metadata": {},
   "source": [
    "## Working with the dataset"
   ]
  },
  {
   "cell_type": "markdown",
   "id": "c6e62250",
   "metadata": {},
   "source": [
    "#### importing the dataset and getting the 1st 5 rows of data"
   ]
  },
  {
   "cell_type": "code",
   "execution_count": 2,
   "id": "ed558bb3",
   "metadata": {},
   "outputs": [],
   "source": [
    "dataset=pd.read_csv(\"cyberbullying_tweets.csv\")    #importing the dataset            "
   ]
  },
  {
   "cell_type": "code",
   "execution_count": 4,
   "id": "5e113eb0",
   "metadata": {},
   "outputs": [
    {
     "data": {
      "text/plain": [
       "(47692, 2)"
      ]
     },
     "execution_count": 4,
     "metadata": {},
     "output_type": "execute_result"
    }
   ],
   "source": [
    "dataset.shape"
   ]
  },
  {
   "cell_type": "code",
   "execution_count": 5,
   "id": "6143a00a",
   "metadata": {},
   "outputs": [
    {
     "data": {
      "text/html": [
       "<div>\n",
       "<style scoped>\n",
       "    .dataframe tbody tr th:only-of-type {\n",
       "        vertical-align: middle;\n",
       "    }\n",
       "\n",
       "    .dataframe tbody tr th {\n",
       "        vertical-align: top;\n",
       "    }\n",
       "\n",
       "    .dataframe thead th {\n",
       "        text-align: right;\n",
       "    }\n",
       "</style>\n",
       "<table border=\"1\" class=\"dataframe\">\n",
       "  <thead>\n",
       "    <tr style=\"text-align: right;\">\n",
       "      <th></th>\n",
       "      <th>tweet_text</th>\n",
       "      <th>cyberbullying_type</th>\n",
       "    </tr>\n",
       "  </thead>\n",
       "  <tbody>\n",
       "    <tr>\n",
       "      <th>0</th>\n",
       "      <td>In other words #katandandre, your food was cra...</td>\n",
       "      <td>not_cyberbullying</td>\n",
       "    </tr>\n",
       "    <tr>\n",
       "      <th>1</th>\n",
       "      <td>Why is #aussietv so white? #MKR #theblock #ImA...</td>\n",
       "      <td>not_cyberbullying</td>\n",
       "    </tr>\n",
       "    <tr>\n",
       "      <th>2</th>\n",
       "      <td>@XochitlSuckkks a classy whore? Or more red ve...</td>\n",
       "      <td>not_cyberbullying</td>\n",
       "    </tr>\n",
       "    <tr>\n",
       "      <th>3</th>\n",
       "      <td>@Jason_Gio meh. :P  thanks for the heads up, b...</td>\n",
       "      <td>not_cyberbullying</td>\n",
       "    </tr>\n",
       "    <tr>\n",
       "      <th>4</th>\n",
       "      <td>@RudhoeEnglish This is an ISIS account pretend...</td>\n",
       "      <td>not_cyberbullying</td>\n",
       "    </tr>\n",
       "  </tbody>\n",
       "</table>\n",
       "</div>"
      ],
      "text/plain": [
       "                                          tweet_text cyberbullying_type\n",
       "0  In other words #katandandre, your food was cra...  not_cyberbullying\n",
       "1  Why is #aussietv so white? #MKR #theblock #ImA...  not_cyberbullying\n",
       "2  @XochitlSuckkks a classy whore? Or more red ve...  not_cyberbullying\n",
       "3  @Jason_Gio meh. :P  thanks for the heads up, b...  not_cyberbullying\n",
       "4  @RudhoeEnglish This is an ISIS account pretend...  not_cyberbullying"
      ]
     },
     "execution_count": 5,
     "metadata": {},
     "output_type": "execute_result"
    }
   ],
   "source": [
    "dataset.head()"
   ]
  },
  {
   "cell_type": "markdown",
   "id": "a6a8e9d9",
   "metadata": {},
   "source": [
    "#### Visualing the value counts"
   ]
  },
  {
   "cell_type": "code",
   "execution_count": 6,
   "id": "7305aa40",
   "metadata": {},
   "outputs": [],
   "source": [
    "def piechart(cl):\n",
    "    lst=[]\n",
    "    lst1=list(dataset[cl].value_counts())\n",
    "    y=np.array(lst1)\n",
    "    labels=dataset[cl].unique().tolist()\n",
    "    explode=[0.2]\n",
    "    fig = plt.figure()\n",
    "    for i in range(len(labels)-1):\n",
    "        explode.append(0)\n",
    "    print(\"The plot for \",cl,\" is: \\n\")\n",
    "    try:\n",
    "        plt.pie(y, labels = labels,explode=explode,autopct='%1.1f%%',shadow=True);\n",
    "        plt.tight_layout()\n",
    "        fig.savefig('piechart.png')\n",
    "        return \"Pie chart Saved succesfully\"\n",
    "    except:\n",
    "        return \"Input column has Null values\""
   ]
  },
  {
   "cell_type": "code",
   "execution_count": 7,
   "id": "2e20fdac",
   "metadata": {},
   "outputs": [],
   "source": [
    "import numpy as np"
   ]
  },
  {
   "cell_type": "code",
   "execution_count": 228,
   "id": "02727d6d",
   "metadata": {},
   "outputs": [
    {
     "name": "stdout",
     "output_type": "stream",
     "text": [
      "The plot for  cyberbullying_type  is: \n",
      "\n"
     ]
    },
    {
     "data": {
      "text/plain": [
       "'Pie chart Saved succesfully'"
      ]
     },
     "execution_count": 228,
     "metadata": {},
     "output_type": "execute_result"
    },
    {
     "data": {
      "image/png": "[encoded data removed]",
      "text/plain": [
       "<Figure size 640x480 with 1 Axes>"
      ]
     },
     "metadata": {},
     "output_type": "display_data"
    }
   ],
   "source": [
    "piechart(\"cyberbullying_type\")"
   ]
  },
  {
   "cell_type": "markdown",
   "id": "302ab7e7",
   "metadata": {},
   "source": [
    "#### Minor data encoding"
   ]
  },
  {
   "cell_type": "code",
   "execution_count": 8,
   "id": "80ef76f6",
   "metadata": {},
   "outputs": [],
   "source": [
    "# Encoding the classes with numbers\n",
    "def change_type(data):\n",
    "    if data==\"religion\":\n",
    "        return 3\n",
    "\n",
    "    \n",
    "    elif data==\"age\":\n",
    "        return 1\n",
    "\n",
    "\n",
    "    elif data==\"gender\":\n",
    "        return 2\n",
    "\n",
    "\n",
    "    elif data==\"other_cyberbullying\":\n",
    "        return 4\n",
    "\n",
    "\n",
    "    if data==\"ethnicity\":\n",
    "        return 5\n",
    "    else:\n",
    "        return 0"
   ]
  },
  {
   "cell_type": "code",
   "execution_count": 9,
   "id": "2e31de61",
   "metadata": {},
   "outputs": [],
   "source": [
    "dataset[\"cyberbullying_type\"]=dataset[\"cyberbullying_type\"].apply(change_type)"
   ]
  },
  {
   "cell_type": "code",
   "execution_count": 10,
   "id": "055b2592",
   "metadata": {},
   "outputs": [
    {
     "data": {
      "text/html": [
       "<div>\n",
       "<style scoped>\n",
       "    .dataframe tbody tr th:only-of-type {\n",
       "        vertical-align: middle;\n",
       "    }\n",
       "\n",
       "    .dataframe tbody tr th {\n",
       "        vertical-align: top;\n",
       "    }\n",
       "\n",
       "    .dataframe thead th {\n",
       "        text-align: right;\n",
       "    }\n",
       "</style>\n",
       "<table border=\"1\" class=\"dataframe\">\n",
       "  <thead>\n",
       "    <tr style=\"text-align: right;\">\n",
       "      <th></th>\n",
       "      <th>tweet_text</th>\n",
       "      <th>cyberbullying_type</th>\n",
       "    </tr>\n",
       "  </thead>\n",
       "  <tbody>\n",
       "    <tr>\n",
       "      <th>0</th>\n",
       "      <td>In other words #katandandre, your food was cra...</td>\n",
       "      <td>0</td>\n",
       "    </tr>\n",
       "    <tr>\n",
       "      <th>1</th>\n",
       "      <td>Why is #aussietv so white? #MKR #theblock #ImA...</td>\n",
       "      <td>0</td>\n",
       "    </tr>\n",
       "    <tr>\n",
       "      <th>2</th>\n",
       "      <td>@XochitlSuckkks a classy whore? Or more red ve...</td>\n",
       "      <td>0</td>\n",
       "    </tr>\n",
       "    <tr>\n",
       "      <th>3</th>\n",
       "      <td>@Jason_Gio meh. :P  thanks for the heads up, b...</td>\n",
       "      <td>0</td>\n",
       "    </tr>\n",
       "    <tr>\n",
       "      <th>4</th>\n",
       "      <td>@RudhoeEnglish This is an ISIS account pretend...</td>\n",
       "      <td>0</td>\n",
       "    </tr>\n",
       "  </tbody>\n",
       "</table>\n",
       "</div>"
      ],
      "text/plain": [
       "                                          tweet_text  cyberbullying_type\n",
       "0  In other words #katandandre, your food was cra...                   0\n",
       "1  Why is #aussietv so white? #MKR #theblock #ImA...                   0\n",
       "2  @XochitlSuckkks a classy whore? Or more red ve...                   0\n",
       "3  @Jason_Gio meh. :P  thanks for the heads up, b...                   0\n",
       "4  @RudhoeEnglish This is an ISIS account pretend...                   0"
      ]
     },
     "execution_count": 10,
     "metadata": {},
     "output_type": "execute_result"
    }
   ],
   "source": [
    "dataset.head()"
   ]
  },
  {
   "cell_type": "markdown",
   "id": "c118ddf8",
   "metadata": {},
   "source": [
    "## Natural Language Processing"
   ]
  },
  {
   "cell_type": "code",
   "execution_count": 11,
   "id": "48d7b587",
   "metadata": {},
   "outputs": [
    {
     "data": {
      "text/plain": [
       "'In other words #katandandre, your food was crapilicious! #mkr'"
      ]
     },
     "execution_count": 11,
     "metadata": {},
     "output_type": "execute_result"
    }
   ],
   "source": [
    "dataset[\"tweet_text\"][0]"
   ]
  },
  {
   "cell_type": "markdown",
   "id": "5f92cd3f",
   "metadata": {},
   "source": [
    "### removing punctuations"
   ]
  },
  {
   "cell_type": "code",
   "execution_count": 12,
   "id": "9ef0cbe9",
   "metadata": {},
   "outputs": [],
   "source": [
    "pattern = r'[^a-zA-Z0-9 ]'\n",
    "def rem_punc(val):\n",
    "    cleaned_text = re.sub(pattern, '', val)\n",
    "    return cleaned_text\n",
    "            "
   ]
  },
  {
   "cell_type": "code",
   "execution_count": 13,
   "id": "4511563f",
   "metadata": {},
   "outputs": [],
   "source": [
    "dataset[\"tweet_text_new\"]=dataset[\"tweet_text\"].apply(rem_punc)"
   ]
  },
  {
   "cell_type": "code",
   "execution_count": 14,
   "id": "6d954b3b",
   "metadata": {},
   "outputs": [
    {
     "data": {
      "text/plain": [
       "'In other words katandandre your food was crapilicious mkr'"
      ]
     },
     "execution_count": 14,
     "metadata": {},
     "output_type": "execute_result"
    }
   ],
   "source": [
    "dataset[\"tweet_text_new\"][0]"
   ]
  },
  {
   "cell_type": "markdown",
   "id": "f7b99a56",
   "metadata": {},
   "source": [
    "### removing stopwords"
   ]
  },
  {
   "cell_type": "code",
   "execution_count": 15,
   "id": "e3debbcc",
   "metadata": {},
   "outputs": [],
   "source": [
    "import nltk\n",
    "from nltk.corpus import stopwords\n",
    "\n",
    "# nltk.download('stopwords')  # Download stopwords data if you haven't already\n",
    "\n",
    "def remove_stopwords(val):\n",
    "    words = val.split()\n",
    "    filtered_words = [word for word in words if word.lower() not in stopwords.words('english')]\n",
    "    return ' '.join(filtered_words)\n",
    "\n",
    "\n",
    "dataset[\"tweet_text_new\"]=dataset[\"tweet_text_new\"].apply(remove_stopwords)\n",
    "\n",
    "\n"
   ]
  },
  {
   "cell_type": "code",
   "execution_count": 16,
   "id": "d35790e5",
   "metadata": {},
   "outputs": [
    {
     "data": {
      "text/plain": [
       "'words katandandre food crapilicious mkr'"
      ]
     },
     "execution_count": 16,
     "metadata": {},
     "output_type": "execute_result"
    }
   ],
   "source": [
    "dataset[\"tweet_text_new\"][0]"
   ]
  },
  {
   "cell_type": "markdown",
   "id": "83a25f56",
   "metadata": {},
   "source": [
    "### Lemmatization"
   ]
  },
  {
   "cell_type": "code",
   "execution_count": 17,
   "id": "1043eb94",
   "metadata": {},
   "outputs": [],
   "source": [
    "import nltk\n",
    "from nltk.stem import WordNetLemmatizer\n",
    "\n",
    "# nltk.download('wordnet')  # Download WordNet data if you haven't already\n",
    "\n",
    "def lemmatize_text(val):\n",
    "    lemmatizer = WordNetLemmatizer()\n",
    "    words = nltk.word_tokenize(val)\n",
    "    lemmatized_words = [lemmatizer.lemmatize(word) for word in words]\n",
    "    return ' '.join(lemmatized_words)\n",
    "\n",
    "dataset[\"tweet_text_new\"]=dataset[\"tweet_text_new\"].apply(lemmatize_text)"
   ]
  },
  {
   "cell_type": "code",
   "execution_count": 18,
   "id": "e625cd35",
   "metadata": {},
   "outputs": [
    {
     "data": {
      "text/plain": [
       "'aussietv white MKR theblock ImACelebrityAU today sunrise studio10 Neighbours WonderlandTen etc'"
      ]
     },
     "execution_count": 18,
     "metadata": {},
     "output_type": "execute_result"
    }
   ],
   "source": [
    "dataset[\"tweet_text_new\"][1]"
   ]
  },
  {
   "cell_type": "code",
   "execution_count": 19,
   "id": "87a501c9",
   "metadata": {},
   "outputs": [
    {
     "data": {
      "text/plain": [
       "'Why is #aussietv so white? #MKR #theblock #ImACelebrityAU #today #sunrise #studio10 #Neighbours #WonderlandTen #etc'"
      ]
     },
     "execution_count": 19,
     "metadata": {},
     "output_type": "execute_result"
    }
   ],
   "source": [
    "dataset[\"tweet_text\"][1]"
   ]
  },
  {
   "cell_type": "markdown",
   "id": "dae56b47",
   "metadata": {},
   "source": [
    "#### dropping the redundant column"
   ]
  },
  {
   "cell_type": "code",
   "execution_count": 20,
   "id": "0e7dc60c",
   "metadata": {},
   "outputs": [],
   "source": [
    "dataset.drop(\"tweet_text\",axis=1,inplace=True)"
   ]
  },
  {
   "cell_type": "markdown",
   "id": "9f0fb627",
   "metadata": {},
   "source": [
    "#### dividing the dataset into x and y"
   ]
  },
  {
   "cell_type": "code",
   "execution_count": 21,
   "id": "917b5e37",
   "metadata": {},
   "outputs": [],
   "source": [
    "x=dataset.drop([\"cyberbullying_type\"],axis=1)\n",
    "y=dataset[\"cyberbullying_type\"]"
   ]
  },
  {
   "cell_type": "code",
   "execution_count": 22,
   "id": "eaab8738",
   "metadata": {},
   "outputs": [
    {
     "data": {
      "text/html": [
       "<div>\n",
       "<style scoped>\n",
       "    .dataframe tbody tr th:only-of-type {\n",
       "        vertical-align: middle;\n",
       "    }\n",
       "\n",
       "    .dataframe tbody tr th {\n",
       "        vertical-align: top;\n",
       "    }\n",
       "\n",
       "    .dataframe thead th {\n",
       "        text-align: right;\n",
       "    }\n",
       "</style>\n",
       "<table border=\"1\" class=\"dataframe\">\n",
       "  <thead>\n",
       "    <tr style=\"text-align: right;\">\n",
       "      <th></th>\n",
       "      <th>tweet_text_new</th>\n",
       "    </tr>\n",
       "  </thead>\n",
       "  <tbody>\n",
       "    <tr>\n",
       "      <th>0</th>\n",
       "      <td>word katandandre food crapilicious mkr</td>\n",
       "    </tr>\n",
       "    <tr>\n",
       "      <th>1</th>\n",
       "      <td>aussietv white MKR theblock ImACelebrityAU tod...</td>\n",
       "    </tr>\n",
       "    <tr>\n",
       "      <th>2</th>\n",
       "      <td>XochitlSuckkks classy whore red velvet cupcake</td>\n",
       "    </tr>\n",
       "    <tr>\n",
       "      <th>3</th>\n",
       "      <td>JasonGio meh P thanks head concerned another a...</td>\n",
       "    </tr>\n",
       "    <tr>\n",
       "      <th>4</th>\n",
       "      <td>RudhoeEnglish ISIS account pretending Kurdish ...</td>\n",
       "    </tr>\n",
       "    <tr>\n",
       "      <th>...</th>\n",
       "      <td>...</td>\n",
       "    </tr>\n",
       "    <tr>\n",
       "      <th>47687</th>\n",
       "      <td>Black ppl arent expected anything depended any...</td>\n",
       "    </tr>\n",
       "    <tr>\n",
       "      <th>47688</th>\n",
       "      <td>Turner withhold disappointment Turner called c...</td>\n",
       "    </tr>\n",
       "    <tr>\n",
       "      <th>47689</th>\n",
       "      <td>swear God dumb nigger bitch got bleach hair re...</td>\n",
       "    </tr>\n",
       "    <tr>\n",
       "      <th>47690</th>\n",
       "      <td>Yea fuck RT therealexel YOURE NIGGER FUCKING U...</td>\n",
       "    </tr>\n",
       "    <tr>\n",
       "      <th>47691</th>\n",
       "      <td>Bro U got ta chill RT CHILLShrammy Dog FUCK KP...</td>\n",
       "    </tr>\n",
       "  </tbody>\n",
       "</table>\n",
       "<p>47692 rows × 1 columns</p>\n",
       "</div>"
      ],
      "text/plain": [
       "                                          tweet_text_new\n",
       "0                 word katandandre food crapilicious mkr\n",
       "1      aussietv white MKR theblock ImACelebrityAU tod...\n",
       "2         XochitlSuckkks classy whore red velvet cupcake\n",
       "3      JasonGio meh P thanks head concerned another a...\n",
       "4      RudhoeEnglish ISIS account pretending Kurdish ...\n",
       "...                                                  ...\n",
       "47687  Black ppl arent expected anything depended any...\n",
       "47688  Turner withhold disappointment Turner called c...\n",
       "47689  swear God dumb nigger bitch got bleach hair re...\n",
       "47690  Yea fuck RT therealexel YOURE NIGGER FUCKING U...\n",
       "47691  Bro U got ta chill RT CHILLShrammy Dog FUCK KP...\n",
       "\n",
       "[47692 rows x 1 columns]"
      ]
     },
     "execution_count": 22,
     "metadata": {},
     "output_type": "execute_result"
    }
   ],
   "source": [
    "x"
   ]
  },
  {
   "cell_type": "markdown",
   "id": "623cc955",
   "metadata": {},
   "source": [
    "### Converting the text to vectors using Tf-Idf"
   ]
  },
  {
   "cell_type": "code",
   "execution_count": 23,
   "id": "b691f7cd",
   "metadata": {},
   "outputs": [],
   "source": [
    "# Creating a TF-IDF vectorizer\n",
    "tfidf_vectorizer = TfidfVectorizer()"
   ]
  },
  {
   "cell_type": "code",
   "execution_count": 24,
   "id": "0c7cd040",
   "metadata": {},
   "outputs": [
    {
     "data": {
      "text/html": [
       "<div>\n",
       "<style scoped>\n",
       "    .dataframe tbody tr th:only-of-type {\n",
       "        vertical-align: middle;\n",
       "    }\n",
       "\n",
       "    .dataframe tbody tr th {\n",
       "        vertical-align: top;\n",
       "    }\n",
       "\n",
       "    .dataframe thead th {\n",
       "        text-align: right;\n",
       "    }\n",
       "</style>\n",
       "<table border=\"1\" class=\"dataframe\">\n",
       "  <thead>\n",
       "    <tr style=\"text-align: right;\">\n",
       "      <th></th>\n",
       "      <th>cyberbullying_type</th>\n",
       "      <th>tweet_text_new</th>\n",
       "    </tr>\n",
       "  </thead>\n",
       "  <tbody>\n",
       "    <tr>\n",
       "      <th>0</th>\n",
       "      <td>0</td>\n",
       "      <td>word katandandre food crapilicious mkr</td>\n",
       "    </tr>\n",
       "    <tr>\n",
       "      <th>1</th>\n",
       "      <td>0</td>\n",
       "      <td>aussietv white MKR theblock ImACelebrityAU tod...</td>\n",
       "    </tr>\n",
       "    <tr>\n",
       "      <th>2</th>\n",
       "      <td>0</td>\n",
       "      <td>XochitlSuckkks classy whore red velvet cupcake</td>\n",
       "    </tr>\n",
       "    <tr>\n",
       "      <th>3</th>\n",
       "      <td>0</td>\n",
       "      <td>JasonGio meh P thanks head concerned another a...</td>\n",
       "    </tr>\n",
       "    <tr>\n",
       "      <th>4</th>\n",
       "      <td>0</td>\n",
       "      <td>RudhoeEnglish ISIS account pretending Kurdish ...</td>\n",
       "    </tr>\n",
       "  </tbody>\n",
       "</table>\n",
       "</div>"
      ],
      "text/plain": [
       "   cyberbullying_type                                     tweet_text_new\n",
       "0                   0             word katandandre food crapilicious mkr\n",
       "1                   0  aussietv white MKR theblock ImACelebrityAU tod...\n",
       "2                   0     XochitlSuckkks classy whore red velvet cupcake\n",
       "3                   0  JasonGio meh P thanks head concerned another a...\n",
       "4                   0  RudhoeEnglish ISIS account pretending Kurdish ..."
      ]
     },
     "execution_count": 24,
     "metadata": {},
     "output_type": "execute_result"
    }
   ],
   "source": [
    "dataset.head()"
   ]
  },
  {
   "cell_type": "code",
   "execution_count": 25,
   "id": "edf64a1d",
   "metadata": {},
   "outputs": [
    {
     "data": {
      "text/plain": [
       "numpy.int64"
      ]
     },
     "execution_count": 25,
     "metadata": {},
     "output_type": "execute_result"
    }
   ],
   "source": [
    "type(dataset[\"cyberbullying_type\"][0])"
   ]
  },
  {
   "cell_type": "markdown",
   "id": "6c2adb53",
   "metadata": {},
   "source": [
    "#### Doing the train test split"
   ]
  },
  {
   "cell_type": "code",
   "execution_count": 26,
   "id": "b7279252",
   "metadata": {},
   "outputs": [],
   "source": [
    "x_train, x_test, y_train, y_test = train_test_split(x,y , random_state=104,  test_size=0.24,  shuffle=True)"
   ]
  },
  {
   "cell_type": "markdown",
   "id": "9124d0fd",
   "metadata": {},
   "source": [
    "#### Dividing the x_train and x_test into vectors"
   ]
  },
  {
   "cell_type": "code",
   "execution_count": 27,
   "id": "b1808882",
   "metadata": {},
   "outputs": [],
   "source": [
    "x_train_tfidf = tfidf_vectorizer.fit_transform(x_train[\"tweet_text_new\"])\n",
    "x_test_tfidf = tfidf_vectorizer.transform(x_test[\"tweet_text_new\"])"
   ]
  },
  {
   "cell_type": "markdown",
   "id": "5308812f",
   "metadata": {},
   "source": [
    "## Model Building"
   ]
  },
  {
   "cell_type": "markdown",
   "id": "c8751af7",
   "metadata": {},
   "source": [
    "#### Building random forest model"
   ]
  },
  {
   "cell_type": "code",
   "execution_count": 29,
   "id": "a55bd83e",
   "metadata": {},
   "outputs": [],
   "source": [
    "from sklearn.ensemble import RandomForestClassifier"
   ]
  },
  {
   "cell_type": "code",
   "execution_count": 30,
   "id": "a5b3f2cf",
   "metadata": {},
   "outputs": [],
   "source": [
    "# created the random forest model which can go upto a maximum depth of 100.\n",
    "clf = RandomForestClassifier(max_depth=100, random_state=0)\n"
   ]
  },
  {
   "cell_type": "code",
   "execution_count": 31,
   "id": "3b066095",
   "metadata": {},
   "outputs": [
    {
     "data": {
      "text/html": [
       "<style>#sk-container-id-1 {color: black;background-color: white;}#sk-container-id-1 pre{padding: 0;}#sk-container-id-1 div.sk-toggleable {background-color: white;}#sk-container-id-1 label.sk-toggleable__label {cursor: pointer;display: block;width: 100%;margin-bottom: 0;padding: 0.3em;box-sizing: border-box;text-align: center;}#sk-container-id-1 label.sk-toggleable__label-arrow:before {content: \"▸\";float: left;margin-right: 0.25em;color: #696969;}#sk-container-id-1 label.sk-toggleable__label-arrow:hover:before {color: black;}#sk-container-id-1 div.sk-estimator:hover label.sk-toggleable__label-arrow:before {color: black;}#sk-container-id-1 div.sk-toggleable__content {max-height: 0;max-width: 0;overflow: hidden;text-align: left;background-color: #f0f8ff;}#sk-container-id-1 div.sk-toggleable__content pre {margin: 0.2em;color: black;border-radius: 0.25em;background-color: #f0f8ff;}#sk-container-id-1 input.sk-toggleable__control:checked~div.sk-toggleable__content {max-height: 200px;max-width: 100%;overflow: auto;}#sk-container-id-1 input.sk-toggleable__control:checked~label.sk-toggleable__label-arrow:before {content: \"▾\";}#sk-container-id-1 div.sk-estimator input.sk-toggleable__control:checked~label.sk-toggleable__label {background-color: #d4ebff;}#sk-container-id-1 div.sk-label input.sk-toggleable__control:checked~label.sk-toggleable__label {background-color: #d4ebff;}#sk-container-id-1 input.sk-hidden--visually {border: 0;clip: rect(1px 1px 1px 1px);clip: rect(1px, 1px, 1px, 1px);height: 1px;margin: -1px;overflow: hidden;padding: 0;position: absolute;width: 1px;}#sk-container-id-1 div.sk-estimator {font-family: monospace;background-color: #f0f8ff;border: 1px dotted black;border-radius: 0.25em;box-sizing: border-box;margin-bottom: 0.5em;}#sk-container-id-1 div.sk-estimator:hover {background-color: #d4ebff;}#sk-container-id-1 div.sk-parallel-item::after {content: \"\";width: 100%;border-bottom: 1px solid gray;flex-grow: 1;}#sk-container-id-1 div.sk-label:hover label.sk-toggleable__label {background-color: #d4ebff;}#sk-container-id-1 div.sk-serial::before {content: \"\";position: absolute;border-left: 1px solid gray;box-sizing: border-box;top: 0;bottom: 0;left: 50%;z-index: 0;}#sk-container-id-1 div.sk-serial {display: flex;flex-direction: column;align-items: center;background-color: white;padding-right: 0.2em;padding-left: 0.2em;position: relative;}#sk-container-id-1 div.sk-item {position: relative;z-index: 1;}#sk-container-id-1 div.sk-parallel {display: flex;align-items: stretch;justify-content: center;background-color: white;position: relative;}#sk-container-id-1 div.sk-item::before, #sk-container-id-1 div.sk-parallel-item::before {content: \"\";position: absolute;border-left: 1px solid gray;box-sizing: border-box;top: 0;bottom: 0;left: 50%;z-index: -1;}#sk-container-id-1 div.sk-parallel-item {display: flex;flex-direction: column;z-index: 1;position: relative;background-color: white;}#sk-container-id-1 div.sk-parallel-item:first-child::after {align-self: flex-end;width: 50%;}#sk-container-id-1 div.sk-parallel-item:last-child::after {align-self: flex-start;width: 50%;}#sk-container-id-1 div.sk-parallel-item:only-child::after {width: 0;}#sk-container-id-1 div.sk-dashed-wrapped {border: 1px dashed gray;margin: 0 0.4em 0.5em 0.4em;box-sizing: border-box;padding-bottom: 0.4em;background-color: white;}#sk-container-id-1 div.sk-label label {font-family: monospace;font-weight: bold;display: inline-block;line-height: 1.2em;}#sk-container-id-1 div.sk-label-container {text-align: center;}#sk-container-id-1 div.sk-container {/* jupyter's `normalize.less` sets `[hidden] { display: none; }` but bootstrap.min.css set `[hidden] { display: none !important; }` so we also need the `!important` here to be able to override the default hidden behavior on the sphinx rendered scikit-learn.org. See: https://github.com/scikit-learn/scikit-learn/issues/21755 */display: inline-block !important;position: relative;}#sk-container-id-1 div.sk-text-repr-fallback {display: none;}</style><div id=\"sk-container-id-1\" class=\"sk-top-container\"><div class=\"sk-text-repr-fallback\"><pre>RandomForestClassifier(max_depth=100, random_state=0)</pre><b>In a Jupyter environment, please rerun this cell to show the HTML representation or trust the notebook. <br />On GitHub, the HTML representation is unable to render, please try loading this page with nbviewer.org.</b></div><div class=\"sk-container\" hidden><div class=\"sk-item\"><div class=\"sk-estimator sk-toggleable\"><input class=\"sk-toggleable__control sk-hidden--visually\" id=\"sk-estimator-id-1\" type=\"checkbox\" checked><label for=\"sk-estimator-id-1\" class=\"sk-toggleable__label sk-toggleable__label-arrow\">RandomForestClassifier</label><div class=\"sk-toggleable__content\"><pre>RandomForestClassifier(max_depth=100, random_state=0)</pre></div></div></div></div></div>"
      ],
      "text/plain": [
       "RandomForestClassifier(max_depth=100, random_state=0)"
      ]
     },
     "execution_count": 31,
     "metadata": {},
     "output_type": "execute_result"
    }
   ],
   "source": [
    "clf.fit(x_train_tfidf, y_train)"
   ]
  },
  {
   "cell_type": "code",
   "execution_count": 32,
   "id": "b029273a",
   "metadata": {},
   "outputs": [],
   "source": [
    "y_pred=clf.predict(x_test_tfidf)"
   ]
  },
  {
   "cell_type": "code",
   "execution_count": 141,
   "id": "4fe47c55",
   "metadata": {},
   "outputs": [
    {
     "data": {
      "text/plain": [
       "array([1], dtype=int64)"
      ]
     },
     "execution_count": 141,
     "metadata": {},
     "output_type": "execute_result"
    }
   ],
   "source": [
    "clf.predict(x_test1)"
   ]
  },
  {
   "cell_type": "code",
   "execution_count": 142,
   "id": "d8017fb8",
   "metadata": {},
   "outputs": [
    {
     "data": {
      "text/plain": [
       "11447"
      ]
     },
     "execution_count": 142,
     "metadata": {},
     "output_type": "execute_result"
    }
   ],
   "source": [
    "len(x_test)"
   ]
  },
  {
   "cell_type": "code",
   "execution_count": 143,
   "id": "e4b377b0",
   "metadata": {},
   "outputs": [
    {
     "data": {
      "text/html": [
       "<div>\n",
       "<style scoped>\n",
       "    .dataframe tbody tr th:only-of-type {\n",
       "        vertical-align: middle;\n",
       "    }\n",
       "\n",
       "    .dataframe tbody tr th {\n",
       "        vertical-align: top;\n",
       "    }\n",
       "\n",
       "    .dataframe thead th {\n",
       "        text-align: right;\n",
       "    }\n",
       "</style>\n",
       "<table border=\"1\" class=\"dataframe\">\n",
       "  <thead>\n",
       "    <tr style=\"text-align: right;\">\n",
       "      <th></th>\n",
       "      <th>tweet_text_new</th>\n",
       "    </tr>\n",
       "  </thead>\n",
       "  <tbody>\n",
       "    <tr>\n",
       "      <th>9828</th>\n",
       "      <td>cjjmiller since youve shown dishonesty twice s...</td>\n",
       "    </tr>\n",
       "    <tr>\n",
       "      <th>32507</th>\n",
       "      <td>Lol bc found throwback picture elementary scho...</td>\n",
       "    </tr>\n",
       "    <tr>\n",
       "      <th>26873</th>\n",
       "      <td>MethyleneGaming 5th edition doesnt exist DONT ...</td>\n",
       "    </tr>\n",
       "    <tr>\n",
       "      <th>4789</th>\n",
       "      <td>RT thefeministanon mcfartle freebsdgirl say le...</td>\n",
       "    </tr>\n",
       "    <tr>\n",
       "      <th>5891</th>\n",
       "      <td>Starting Get Headache</td>\n",
       "    </tr>\n",
       "  </tbody>\n",
       "</table>\n",
       "</div>"
      ],
      "text/plain": [
       "                                          tweet_text_new\n",
       "9828   cjjmiller since youve shown dishonesty twice s...\n",
       "32507  Lol bc found throwback picture elementary scho...\n",
       "26873  MethyleneGaming 5th edition doesnt exist DONT ...\n",
       "4789   RT thefeministanon mcfartle freebsdgirl say le...\n",
       "5891                               Starting Get Headache"
      ]
     },
     "execution_count": 143,
     "metadata": {},
     "output_type": "execute_result"
    }
   ],
   "source": [
    "x_test.head()"
   ]
  },
  {
   "cell_type": "markdown",
   "id": "300aeb90",
   "metadata": {},
   "source": [
    "## Testing"
   ]
  },
  {
   "cell_type": "markdown",
   "id": "b5bed366",
   "metadata": {},
   "source": [
    "### Getting the accuracy score"
   ]
  },
  {
   "cell_type": "code",
   "execution_count": 144,
   "id": "4d0c74c8",
   "metadata": {},
   "outputs": [],
   "source": [
    "from sklearn.metrics import accuracy_score"
   ]
  },
  {
   "cell_type": "code",
   "execution_count": 145,
   "id": "f1cd06e2",
   "metadata": {},
   "outputs": [
    {
     "data": {
      "text/plain": [
       "81.68952563990565"
      ]
     },
     "execution_count": 145,
     "metadata": {},
     "output_type": "execute_result"
    }
   ],
   "source": [
    "accuracy_score(y_test, y_pred)*100"
   ]
  },
  {
   "cell_type": "code",
   "execution_count": 33,
   "id": "240cb5d2",
   "metadata": {},
   "outputs": [],
   "source": [
    "from sklearn.metrics import classification_report"
   ]
  },
  {
   "cell_type": "code",
   "execution_count": 35,
   "id": "586c7f7c",
   "metadata": {},
   "outputs": [
    {
     "name": "stdout",
     "output_type": "stream",
     "text": [
      "              precision    recall  f1-score   support\n",
      "\n",
      "           0       0.61      0.44      0.51      1921\n",
      "           1       0.95      0.98      0.96      1961\n",
      "           2       0.93      0.80      0.86      1832\n",
      "           3       0.93      0.95      0.94      1935\n",
      "           4       0.55      0.75      0.63      1881\n",
      "           5       0.98      0.98      0.98      1917\n",
      "\n",
      "    accuracy                           0.82     11447\n",
      "   macro avg       0.82      0.82      0.81     11447\n",
      "weighted avg       0.82      0.82      0.82     11447\n",
      "\n"
     ]
    }
   ],
   "source": [
    "print(classification_report(y_test, y_pred))"
   ]
  },
  {
   "cell_type": "code",
   "execution_count": null,
   "id": "455a49ff",
   "metadata": {},
   "outputs": [],
   "source": []
  },
  {
   "cell_type": "code",
   "execution_count": 243,
   "id": "7ec9b136",
   "metadata": {},
   "outputs": [
    {
     "data": {
      "text/plain": [
       "9828     2\n",
       "32507    1\n",
       "26873    4\n",
       "4789     0\n",
       "5891     0\n",
       "25912    4\n",
       "16447    3\n",
       "12106    2\n",
       "16534    3\n",
       "20005    3\n",
       "Name: cyberbullying_type, dtype: int64"
      ]
     },
     "execution_count": 243,
     "metadata": {},
     "output_type": "execute_result"
    }
   ],
   "source": [
    "y_test.head(10)"
   ]
  },
  {
   "cell_type": "markdown",
   "id": "a51cd228",
   "metadata": {},
   "source": [
    "### testing on verified outputs (test cases):"
   ]
  },
  {
   "cell_type": "code",
   "execution_count": 200,
   "id": "9b49b813",
   "metadata": {},
   "outputs": [
    {
     "data": {
      "text/html": [
       "<div>\n",
       "<style scoped>\n",
       "    .dataframe tbody tr th:only-of-type {\n",
       "        vertical-align: middle;\n",
       "    }\n",
       "\n",
       "    .dataframe tbody tr th {\n",
       "        vertical-align: top;\n",
       "    }\n",
       "\n",
       "    .dataframe thead th {\n",
       "        text-align: right;\n",
       "    }\n",
       "</style>\n",
       "<table border=\"1\" class=\"dataframe\">\n",
       "  <thead>\n",
       "    <tr style=\"text-align: right;\">\n",
       "      <th></th>\n",
       "      <th>tweet_text_new</th>\n",
       "    </tr>\n",
       "  </thead>\n",
       "  <tbody>\n",
       "    <tr>\n",
       "      <th>9828</th>\n",
       "      <td>cjjmiller since youve shown dishonesty twice s...</td>\n",
       "    </tr>\n",
       "    <tr>\n",
       "      <th>32507</th>\n",
       "      <td>Lol bc found throwback picture elementary scho...</td>\n",
       "    </tr>\n",
       "    <tr>\n",
       "      <th>26873</th>\n",
       "      <td>MethyleneGaming 5th edition doesnt exist DONT ...</td>\n",
       "    </tr>\n",
       "    <tr>\n",
       "      <th>4789</th>\n",
       "      <td>RT thefeministanon mcfartle freebsdgirl say le...</td>\n",
       "    </tr>\n",
       "    <tr>\n",
       "      <th>5891</th>\n",
       "      <td>Starting Get Headache</td>\n",
       "    </tr>\n",
       "    <tr>\n",
       "      <th>...</th>\n",
       "      <td>...</td>\n",
       "    </tr>\n",
       "    <tr>\n",
       "      <th>45198</th>\n",
       "      <td>dumb nigger piece shit cunt fuck</td>\n",
       "    </tr>\n",
       "    <tr>\n",
       "      <th>46848</th>\n",
       "      <td>Kill dumb bitch RT tayyoung FUCK OBAMA dumb as...</td>\n",
       "    </tr>\n",
       "    <tr>\n",
       "      <th>30295</th>\n",
       "      <td>whole Harper Lee thing kind gross sister died ...</td>\n",
       "    </tr>\n",
       "    <tr>\n",
       "      <th>46731</th>\n",
       "      <td>itzguccibitch amp changed grew fuck as Youre s...</td>\n",
       "    </tr>\n",
       "    <tr>\n",
       "      <th>8747</th>\n",
       "      <td>mykitchenrules bjtqld mkr2015 mkr think Kat th...</td>\n",
       "    </tr>\n",
       "  </tbody>\n",
       "</table>\n",
       "<p>11447 rows × 1 columns</p>\n",
       "</div>"
      ],
      "text/plain": [
       "                                          tweet_text_new\n",
       "9828   cjjmiller since youve shown dishonesty twice s...\n",
       "32507  Lol bc found throwback picture elementary scho...\n",
       "26873  MethyleneGaming 5th edition doesnt exist DONT ...\n",
       "4789   RT thefeministanon mcfartle freebsdgirl say le...\n",
       "5891                               Starting Get Headache\n",
       "...                                                  ...\n",
       "45198                   dumb nigger piece shit cunt fuck\n",
       "46848  Kill dumb bitch RT tayyoung FUCK OBAMA dumb as...\n",
       "30295  whole Harper Lee thing kind gross sister died ...\n",
       "46731  itzguccibitch amp changed grew fuck as Youre s...\n",
       "8747   mykitchenrules bjtqld mkr2015 mkr think Kat th...\n",
       "\n",
       "[11447 rows x 1 columns]"
      ]
     },
     "execution_count": 200,
     "metadata": {},
     "output_type": "execute_result"
    }
   ],
   "source": [
    "x_test"
   ]
  },
  {
   "cell_type": "markdown",
   "id": "8f1588dd",
   "metadata": {},
   "source": [
    "#### original text"
   ]
  },
  {
   "cell_type": "code",
   "execution_count": 244,
   "id": "e1de456a",
   "metadata": {},
   "outputs": [
    {
     "data": {
      "text/plain": [
       "'A Pakistani court has sentenced 86 members of a far right religious party to 55-year prison terms each for taking part in violent protests against the acquittal of a Christian woman in a blasphemy case, party officials say. http://bit.ly/2FXq0HA'"
      ]
     },
     "execution_count": 244,
     "metadata": {},
     "output_type": "execute_result"
    }
   ],
   "source": [
    "because they  were  Pakistani court has sentenced 86 members of a far right religious party to 55-year prison terms each for taking part in violent protests against the acquittal of a Christian woman in a blasphemy case, party officials say"
   ]
  },
  {
   "cell_type": "markdown",
   "id": "b27b54e7",
   "metadata": {},
   "source": [
    "#### Modified text"
   ]
  },
  {
   "cell_type": "code",
   "execution_count": 171,
   "id": "e6228cae",
   "metadata": {},
   "outputs": [
    {
     "data": {
      "text/plain": [
       "'Lol bc found throwback picture elementary school bully really used bully fat caused many body image issue bitch bigger tf need redo Lem me go back slap sense'"
      ]
     },
     "execution_count": 171,
     "metadata": {},
     "output_type": "execute_result"
    }
   ],
   "source": [
    "x_test[\"tweet_text_new\"][32507]"
   ]
  },
  {
   "cell_type": "markdown",
   "id": "90d20592",
   "metadata": {},
   "source": [
    "#### original output"
   ]
  },
  {
   "cell_type": "code",
   "execution_count": 172,
   "id": "0603e22a",
   "metadata": {},
   "outputs": [
    {
     "data": {
      "text/plain": [
       "'age'"
      ]
     },
     "execution_count": 172,
     "metadata": {},
     "output_type": "execute_result"
    }
   ],
   "source": [
    "dataset[\"cyberbullying_type\"][32507]"
   ]
  },
  {
   "cell_type": "markdown",
   "id": "ebcc044b",
   "metadata": {},
   "source": [
    "#### model's Output"
   ]
  },
  {
   "cell_type": "code",
   "execution_count": 173,
   "id": "1c52a3a0",
   "metadata": {},
   "outputs": [],
   "source": [
    "x_test1=tfidf_vectorizer.transform([x_test[\"tweet_text_new\"][32507]])"
   ]
  },
  {
   "cell_type": "code",
   "execution_count": 176,
   "id": "cb097941",
   "metadata": {},
   "outputs": [],
   "source": [
    "y_pred=clf.predict(x_test1)"
   ]
  },
  {
   "cell_type": "code",
   "execution_count": 177,
   "id": "a0daf9bb",
   "metadata": {},
   "outputs": [
    {
     "data": {
      "text/plain": [
       "array([1], dtype=int64)"
      ]
     },
     "execution_count": 177,
     "metadata": {},
     "output_type": "execute_result"
    }
   ],
   "source": [
    "clf.predict(x_test1)"
   ]
  },
  {
   "cell_type": "markdown",
   "id": "8b41e012",
   "metadata": {},
   "source": [
    "#### Getting the user input"
   ]
  },
  {
   "cell_type": "code",
   "execution_count": 165,
   "id": "c650e3d8",
   "metadata": {},
   "outputs": [],
   "source": [
    "# Converting the outputs into their respective classes \n",
    "\n",
    "def get_type(data):\n",
    "    if data== 3:\n",
    "        return \"religion\"\n",
    "\n",
    "    \n",
    "    elif data== 1:\n",
    "        return \"age\"\n",
    "\n",
    "\n",
    "    elif data==2:\n",
    "        return \"gender\"\n",
    "\n",
    "\n",
    "    elif data== 4:\n",
    "        return \"other_cyberbullying\"\n",
    "\n",
    "\n",
    "    if data== 5:\n",
    "        return \"ethnicity\"\n",
    "    else:\n",
    "        return \"Not bullied\""
   ]
  },
  {
   "cell_type": "code",
   "execution_count": 211,
   "id": "26957e1f",
   "metadata": {},
   "outputs": [
    {
     "name": "stdout",
     "output_type": "stream",
     "text": [
      "Enter the comment: good boy\n",
      " Verdict: \n",
      " Not bullied\n"
     ]
    }
   ],
   "source": [
    "# predicting from user input\n",
    "\n",
    "val=input(\"Enter the comment: \")\n",
    "\n",
    "val, val, val,val=rem_punc(val),remove_stopwords(val), lemmatize_text(val),tfidf_vectorizer.transform([val])\n",
    "\n",
    "clf.predict(val)[0]\n",
    "\n",
    "print(\" Verdict: \\n\",get_type(clf.predict(val)[0]))"
   ]
  },
  {
   "cell_type": "code",
   "execution_count": 206,
   "id": "4bb7bbc7",
   "metadata": {},
   "outputs": [
    {
     "data": {
      "text/plain": [
       "'1.2.1'"
      ]
     },
     "execution_count": 206,
     "metadata": {},
     "output_type": "execute_result"
    }
   ],
   "source": [
    "sklearn.__version__"
   ]
  },
  {
   "cell_type": "code",
   "execution_count": 205,
   "id": "4cbe218f",
   "metadata": {},
   "outputs": [],
   "source": [
    "import sklearn"
   ]
  },
  {
   "cell_type": "code",
   "execution_count": 239,
   "id": "d2169dee",
   "metadata": {},
   "outputs": [],
   "source": [
    "pkl.dump(tfidf_vectorizer, open(\"tfidf_vectorizer.pkl\", \"wb\")) \n",
    "# pickle.load(open(\"vectorizer.pickle\", 'rb')) "
   ]
  },
  {
   "cell_type": "code",
   "execution_count": 3,
   "id": "c97ab1b0",
   "metadata": {},
   "outputs": [
    {
     "name": "stderr",
     "output_type": "stream",
     "text": [
      "F:\\Anaconda\\lib\\site-packages\\sklearn\\base.py:299: UserWarning: Trying to unpickle estimator DecisionTreeClassifier from version 1.0.2 when using version 1.2.1. This might lead to breaking code or invalid results. Use at your own risk. For more info please refer to:\n",
      "https://scikit-learn.org/stable/model_persistence.html#security-maintainability-limitations\n",
      "  warnings.warn(\n",
      "F:\\Anaconda\\lib\\site-packages\\sklearn\\base.py:299: UserWarning: Trying to unpickle estimator RandomForestClassifier from version 1.0.2 when using version 1.2.1. This might lead to breaking code or invalid results. Use at your own risk. For more info please refer to:\n",
      "https://scikit-learn.org/stable/model_persistence.html#security-maintainability-limitations\n",
      "  warnings.warn(\n"
     ]
    }
   ],
   "source": [
    "import pickle as pkl\n",
    "pickle_in = open(\"F:/SOP/codeathon1.pkl\",\"rb\")\n",
    "classifier=pkl.load(pickle_in)"
   ]
  },
  {
   "cell_type": "code",
   "execution_count": null,
   "id": "f42ec692",
   "metadata": {},
   "outputs": [],
   "source": []
  }
 ],
 "metadata": {
  "kernelspec": {
   "display_name": "Python 3 (ipykernel)",
   "language": "python",
   "name": "python3"
  },
  "language_info": {
   "codemirror_mode": {
    "name": "ipython",
    "version": 3
   },
   "file_extension": ".py",
   "mimetype": "text/x-python",
   "name": "python",
   "nbconvert_exporter": "python",
   "pygments_lexer": "ipython3",
   "version": "3.10.9"
  }
 },
 "nbformat": 4,
 "nbformat_minor": 5
}
